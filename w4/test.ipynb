{
 "cells": [
  {
   "cell_type": "markdown",
   "metadata": {},
   "source": [
    "3. Условная вероятность\n",
    "Пусть событие A в примере с мишенью — это попадание в «десятку», событие B —\n",
    "попадание в любое место мишени. Если известно, что событие B произошло, то ве-\n",
    "роятность события A повышается. Условная вероятность события A при условии,\n",
    "что произошло событие B, определяется следующим образом:\n",
    "\u0001 P (AB)\n",
    ".\n",
    "P A|B =\n",
    "P (B)\n",
    "Если попадание в мишень происходит в восьмидесяти процентах случаев, а в «десят-\n",
    "ку» — в пяти процентах, то:\n",
    "P (AB) = P (A) = 0,05\n",
    "⇒\n",
    "\u0001 0,05\n",
    "= 0,0625.\n",
    "P A|B =\n",
    "0,8"
   ]
  },
  {
   "cell_type": "markdown",
   "metadata": {},
   "source": [
    "По формуле условной вероятности 0.20/.5=0.4."
   ]
  },
  {
   "cell_type": "code",
   "execution_count": 1,
   "metadata": {},
   "outputs": [
    {
     "data": {
      "text/plain": [
       "0.4"
      ]
     },
     "execution_count": 1,
     "metadata": {},
     "output_type": "execute_result"
    }
   ],
   "source": [
    ".2/.5"
   ]
  },
  {
   "cell_type": "code",
   "execution_count": 2,
   "metadata": {},
   "outputs": [
    {
     "data": {
      "text/plain": [
       "1.0"
      ]
     },
     "execution_count": 2,
     "metadata": {},
     "output_type": "execute_result"
    }
   ],
   "source": [
    ".49+.38+.1+.03"
   ]
  },
  {
   "cell_type": "code",
   "execution_count": 3,
   "metadata": {
    "collapsed": true
   },
   "outputs": [],
   "source": [
    "a = [1,2,3,4]"
   ]
  },
  {
   "cell_type": "code",
   "execution_count": 4,
   "metadata": {},
   "outputs": [
    {
     "data": {
      "text/plain": [
       "[1, 2, 3, 4, 1, 2, 3, 4, 1, 2, 3, 4]"
      ]
     },
     "execution_count": 4,
     "metadata": {},
     "output_type": "execute_result"
    }
   ],
   "source": [
    "a*3"
   ]
  },
  {
   "cell_type": "code",
   "execution_count": 5,
   "metadata": {
    "collapsed": true
   },
   "outputs": [],
   "source": [
    "import numpy as np"
   ]
  },
  {
   "cell_type": "code",
   "execution_count": 6,
   "metadata": {
    "collapsed": true
   },
   "outputs": [],
   "source": [
    "aa = np.array(a)"
   ]
  },
  {
   "cell_type": "code",
   "execution_count": 7,
   "metadata": {},
   "outputs": [
    {
     "data": {
      "text/plain": [
       "array([1, 2, 3, 4])"
      ]
     },
     "execution_count": 7,
     "metadata": {},
     "output_type": "execute_result"
    }
   ],
   "source": [
    "aa"
   ]
  },
  {
   "cell_type": "code",
   "execution_count": 8,
   "metadata": {},
   "outputs": [
    {
     "data": {
      "text/plain": [
       "array([2, 4, 6, 8])"
      ]
     },
     "execution_count": 8,
     "metadata": {},
     "output_type": "execute_result"
    }
   ],
   "source": [
    "aa*2"
   ]
  },
  {
   "cell_type": "markdown",
   "metadata": {},
   "source": [
    "создаем вектор вероятностей австралийцев с группами крови\n",
    "P(I)=0.49,P(II)=0.38,P(III)=0.1,P(IV)=0.03.\n"
   ]
  },
  {
   "cell_type": "markdown",
   "metadata": {},
   "source": [
    "Искомая вероятность — сумма вероятностей всех ячеек, отмеченных плюсом. Поскольку австралийцы выбираются независимо, в каждой ячейке вероятность равна произведению вероятностей соответствующих строки и столбца."
   ]
  },
  {
   "cell_type": "code",
   "execution_count": 9,
   "metadata": {
    "collapsed": true
   },
   "outputs": [],
   "source": [
    "a = np.array([0.49, 0.38, 0.1, 0.03])"
   ]
  },
  {
   "cell_type": "markdown",
   "metadata": {},
   "source": [
    "перемножаем на вероятности по каждой группе получаем вектор"
   ]
  },
  {
   "cell_type": "code",
   "execution_count": 44,
   "metadata": {},
   "outputs": [
    {
     "data": {
      "text/plain": [
       "array([ 0.2401,  0.1862,  0.049 ,  0.0147])"
      ]
     },
     "execution_count": 44,
     "metadata": {},
     "output_type": "execute_result"
    }
   ],
   "source": [
    "a1 = a * a[0]\n",
    "a1"
   ]
  },
  {
   "cell_type": "code",
   "execution_count": 45,
   "metadata": {
    "collapsed": true
   },
   "outputs": [],
   "source": [
    "a2 = a * a[1]\n",
    "a3 = a * a[2]\n",
    "a4 = a * a[3]"
   ]
  },
  {
   "cell_type": "code",
   "execution_count": 46,
   "metadata": {},
   "outputs": [
    {
     "name": "stdout",
     "output_type": "stream",
     "text": [
      "[ 0.2401  0.1862  0.049   0.0147]\n",
      "[ 0.1862  0.1444  0.038   0.0114]\n",
      "[ 0.049  0.038  0.01   0.003]\n",
      "[ 0.0147  0.0114  0.003   0.0009]\n"
     ]
    }
   ],
   "source": [
    "print a1\n",
    "print a2\n",
    "print a3\n",
    "print a4"
   ]
  },
  {
   "cell_type": "code",
   "execution_count": 47,
   "metadata": {},
   "outputs": [
    {
     "data": {
      "text/plain": [
       "[0.48999999999999999, 0.38, 0.10000000000000001, 0.029999999999999999]"
      ]
     },
     "execution_count": 47,
     "metadata": {},
     "output_type": "execute_result"
    }
   ],
   "source": [
    "[b for b in a]"
   ]
  },
  {
   "cell_type": "markdown",
   "metadata": {},
   "source": [
    "проверяем справедливось условия полной группы"
   ]
  },
  {
   "cell_type": "code",
   "execution_count": 48,
   "metadata": {
    "collapsed": true
   },
   "outputs": [],
   "source": [
    "sum = 0."
   ]
  },
  {
   "cell_type": "code",
   "execution_count": 49,
   "metadata": {},
   "outputs": [
    {
     "data": {
      "text/plain": [
       "1.0"
      ]
     },
     "execution_count": 49,
     "metadata": {},
     "output_type": "execute_result"
    }
   ],
   "source": [
    "for b in a1: sum = sum + b\n",
    "for b in a2: sum = sum + b\n",
    "for b in a3: sum = sum + b\n",
    "for b in a4: sum = sum + b\n",
    "sum"
   ]
  },
  {
   "cell_type": "markdown",
   "metadata": {},
   "source": [
    "выбираем только совместимые вероятности и суммируем как независимые"
   ]
  },
  {
   "cell_type": "code",
   "execution_count": 50,
   "metadata": {},
   "outputs": [
    {
     "data": {
      "text/plain": [
       "0.65969999999999995"
      ]
     },
     "execution_count": 50,
     "metadata": {},
     "output_type": "execute_result"
    }
   ],
   "source": [
    "result = 0.\n",
    "for b in a1: result = result + b\n",
    "result = result + a2[1] + a2[3]\n",
    "result = result + a3[2] + a3[3]\n",
    "result = result + a4[3]\n",
    "result\n"
   ]
  },
  {
   "cell_type": "markdown",
   "metadata": {},
   "source": [
    "ответ P = 0.65969999999999995 округлить? 0.6597"
   ]
  },
  {
   "cell_type": "markdown",
   "metadata": {},
   "source": [
    "В супермаркете 60% яблок из Турции и 40% яблок из Индии. 10% турецких и 15% индийских яблок — червивые. Какова вероятность, что яблоко, купленное в этом магазине, окажется червивым? Запишите ответ от 0 до 1 с двумя знаками после десятичной точки."
   ]
  },
  {
   "cell_type": "markdown",
   "metadata": {},
   "source": [
    "событие выбор одного яблока независимое pt = 0.6 pi = 0.4\n",
    "общее кол-во хороших яблок независимое для обоих типов\n",
    "90% турецких\n",
    "85% индийских\n",
    "умножение вероятностей дает вероятность хоорших яблок"
   ]
  },
  {
   "cell_type": "markdown",
   "metadata": {},
   "source": [
    "Пусть событие A происходит, если яблоко из Турции, а событие B — если яблоко червивое. Воспользуемся формулой полной вероятности:\n",
    "\n",
    "𝖯(B)=𝖯(B∣∣A)𝖯(A)+𝖯(B∣∣A¯)𝖯(A¯)=0.1⋅0.6+0.15⋅0.4=0.12."
   ]
  },
  {
   "cell_type": "code",
   "execution_count": 34,
   "metadata": {
    "collapsed": true
   },
   "outputs": [],
   "source": [
    "pt = .9 * .6\n",
    "pi = .85 * .4"
   ]
  },
  {
   "cell_type": "markdown",
   "metadata": {},
   "source": [
    "суммируем получаем вероятность хорошего яблока"
   ]
  },
  {
   "cell_type": "code",
   "execution_count": 35,
   "metadata": {
    "collapsed": true
   },
   "outputs": [],
   "source": [
    "pgood = pt + pi"
   ]
  },
  {
   "cell_type": "markdown",
   "metadata": {},
   "source": [
    "вероятность плохого по формуле полной группы"
   ]
  },
  {
   "cell_type": "code",
   "execution_count": 37,
   "metadata": {},
   "outputs": [
    {
     "name": "stdout",
     "output_type": "stream",
     "text": [
      "0.12\n"
     ]
    }
   ],
   "source": [
    "pbad = 1 - pgood\n",
    "print pbad"
   ]
  },
  {
   "cell_type": "markdown",
   "metadata": {},
   "source": [
    "Пусть событие A происходит, если яблоко из Турции, а событие B — если яблоко червивое. Воспользуемся формулой полной вероятности:\n",
    "\n",
    "𝖯(B)=𝖯(B∣∣A)𝖯(A)+𝖯(B∣∣A¯)𝖯(A¯)=0.1⋅0.6+0.15⋅0.4=0.12."
   ]
  },
  {
   "cell_type": "markdown",
   "metadata": {},
   "source": [
    "Представьте, что вы купили яблоко в магазине из предыдущей задачи, и оно оказалось червивым. Какова вероятность того, что оно из Турции, а не из Индии?"
   ]
  },
  {
   "cell_type": "markdown",
   "metadata": {},
   "source": [
    "событие червивое яблоко, вероятность из какой группы из условия 60% турецких нет не верно нужно использовать формулу условной вероятности\n",
    "P(A|B) = P(AB)/P(B) = "
   ]
  },
  {
   "cell_type": "code",
   "execution_count": 57,
   "metadata": {},
   "outputs": [
    {
     "data": {
      "text/plain": [
       "0.1"
      ]
     },
     "execution_count": 57,
     "metadata": {},
     "output_type": "execute_result"
    }
   ],
   "source": [
    "pt = (.1*.15)/.15\n",
    "pt"
   ]
  },
  {
   "cell_type": "markdown",
   "metadata": {},
   "source": [
    "Журнал \"Популярная механика\" читает 6.4% целевой аудитории вашего продукта, а журнал \"Кот Шрёдингера\" — 3.7%. Если вы разместите рекламу в обоих журналах, что можно сказать о доле p целевой аудитории, которая увидит рекламу хотя бы один раз?\n",
    "\n",
    "Используйте формулу вероятности события-суммы и подумайте, чему может быть равна вероятность события-произведения.\n"
   ]
  },
  {
   "cell_type": "markdown",
   "metadata": {},
   "source": [
    "событие суммы P(A) + P(B)"
   ]
  },
  {
   "cell_type": "code",
   "execution_count": 52,
   "metadata": {},
   "outputs": [
    {
     "data": {
      "text/plain": [
       "0.101"
      ]
     },
     "execution_count": 52,
     "metadata": {},
     "output_type": "execute_result"
    }
   ],
   "source": [
    ".064+.037"
   ]
  },
  {
   "cell_type": "markdown",
   "metadata": {},
   "source": [
    "событие произведения P(AB) = 0.037 фиг с маслом неправильно\n",
    "увидит хотябы один раз P(AB) = 0.064 в этом случае?"
   ]
  },
  {
   "cell_type": "code",
   "execution_count": 58,
   "metadata": {
    "collapsed": true
   },
   "outputs": [],
   "source": [
    "ptc = .1 * .6\n",
    "pic = .15 * .4"
   ]
  },
  {
   "cell_type": "code",
   "execution_count": 59,
   "metadata": {},
   "outputs": [
    {
     "data": {
      "text/plain": [
       "0.12"
      ]
     },
     "execution_count": 59,
     "metadata": {},
     "output_type": "execute_result"
    }
   ],
   "source": [
    "ptc+pic"
   ]
  },
  {
   "cell_type": "code",
   "execution_count": 61,
   "metadata": {},
   "outputs": [
    {
     "data": {
      "text/plain": [
       "0.5"
      ]
     },
     "execution_count": 61,
     "metadata": {},
     "output_type": "execute_result"
    }
   ],
   "source": [
    "ptc/(ptc+pic)"
   ]
  },
  {
   "cell_type": "code",
   "execution_count": 62,
   "metadata": {},
   "outputs": [
    {
     "data": {
      "text/plain": [
       "0.06"
      ]
     },
     "execution_count": 62,
     "metadata": {},
     "output_type": "execute_result"
    }
   ],
   "source": [
    "ptc"
   ]
  },
  {
   "cell_type": "code",
   "execution_count": 63,
   "metadata": {},
   "outputs": [
    {
     "data": {
      "text/plain": [
       "0.06"
      ]
     },
     "execution_count": 63,
     "metadata": {},
     "output_type": "execute_result"
    }
   ],
   "source": [
    "pic"
   ]
  },
  {
   "cell_type": "markdown",
   "metadata": {
    "collapsed": true
   },
   "source": [
    "1% женщин больны раком груди. У 80% женщин, больных раком груди, маммограмма верно выявляет наличие заболевания; кроме того, она даёт ложный положительный результат (то есть, неверно показывает наличие рака) для 9.6% здоровых женщин.\n",
    "\n",
    "У какого процента женщин, маммограмма которых дала положительный результат, есть рак груди? Запишите ответ с точностью до одного знака после десятичной точки (знак процента не нужен)."
   ]
  },
  {
   "cell_type": "markdown",
   "metadata": {},
   "source": [
    "дано: событие - тест для любой из 0.99+0.01, результат положительный\n",
    "условие: положительный верный для 0.8 больных и положительный не верный для 0.096 здоровых\n",
    "найти: количество с результатом положительный и верный для какого количества женщин  в %\n",
    "решение: \n"
   ]
  },
  {
   "cell_type": "code",
   "execution_count": 2,
   "metadata": {},
   "outputs": [
    {
     "data": {
      "text/plain": [
       "0.09504"
      ]
     },
     "execution_count": 2,
     "metadata": {},
     "output_type": "execute_result"
    }
   ],
   "source": [
    "0.99*0.096 # количество здоровых с неверным результатом"
   ]
  },
  {
   "cell_type": "code",
   "execution_count": 3,
   "metadata": {},
   "outputs": [
    {
     "data": {
      "text/plain": [
       "0.008"
      ]
     },
     "execution_count": 3,
     "metadata": {},
     "output_type": "execute_result"
    }
   ],
   "source": [
    "0.01*0.8 # количество больных с верным езультатом "
   ]
  },
  {
   "cell_type": "code",
   "execution_count": 6,
   "metadata": {},
   "outputs": [
    {
     "data": {
      "text/plain": [
       "0.10303999999999999"
      ]
     },
     "execution_count": 6,
     "metadata": {},
     "output_type": "execute_result"
    }
   ],
   "source": [
    "0.09504+0.008 # общее количество  положительным результатом"
   ]
  },
  {
   "cell_type": "code",
   "execution_count": 7,
   "metadata": {},
   "outputs": [
    {
     "data": {
      "text/plain": [
       "0.07763975155279504"
      ]
     },
     "execution_count": 7,
     "metadata": {},
     "output_type": "execute_result"
    }
   ],
   "source": [
    "0.008/(0.09504+0.008)  # количество в процентах реально больных"
   ]
  },
  {
   "cell_type": "code",
   "execution_count": null,
   "metadata": {
    "collapsed": true
   },
   "outputs": [],
   "source": [
    "7.8"
   ]
  },
  {
   "cell_type": "markdown",
   "metadata": {},
   "source": [
    "Какова вероятность того, что при независимом подбрасывании двух симметричных шестигранных кубиков хотя бы на одном из них выпадет больше трёх очков? Запишите точный ответ в виде десятичной дроби."
   ]
  },
  {
   "cell_type": "markdown",
   "metadata": {},
   "source": [
    "4 1/6, 5 1/6, 6 1/6 итого 3/6 или 1/2 для одного кубика \n",
    "P(A+B)=P(A)+P(B)-P(AB) или 3/4"
   ]
  },
  {
   "cell_type": "code",
   "execution_count": 9,
   "metadata": {},
   "outputs": [
    {
     "data": {
      "text/plain": [
       "0.75"
      ]
     },
     "execution_count": 9,
     "metadata": {},
     "output_type": "execute_result"
    }
   ],
   "source": [
    "3./4."
   ]
  },
  {
   "cell_type": "code",
   "execution_count": null,
   "metadata": {
    "collapsed": true
   },
   "outputs": [],
   "source": []
  }
 ],
 "metadata": {
  "kernelspec": {
   "display_name": "Python 2",
   "language": "python",
   "name": "python2"
  },
  "language_info": {
   "codemirror_mode": {
    "name": "ipython",
    "version": 2
   },
   "file_extension": ".py",
   "mimetype": "text/x-python",
   "name": "python",
   "nbconvert_exporter": "python",
   "pygments_lexer": "ipython2",
   "version": "2.7.13"
  }
 },
 "nbformat": 4,
 "nbformat_minor": 2
}
