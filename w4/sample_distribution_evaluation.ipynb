{
 "cells": [
  {
   "cell_type": "code",
   "execution_count": 51,
   "metadata": {
    "collapsed": true
   },
   "outputs": [],
   "source": [
    "import pandas as pd\n",
    "import numpy as np\n",
    "import matplotlib.pyplot as plt\n",
    "import scipy.stats as sts\n",
    "%matplotlib inline"
   ]
  },
  {
   "cell_type": "markdown",
   "metadata": {},
   "source": [
    "# Дискретное распределение"
   ]
  },
  {
   "cell_type": "markdown",
   "metadata": {},
   "source": [
    "Сгенерируем выборку объёма 100 из дискретного распределения с шестью равновероятными исходами."
   ]
  },
  {
   "cell_type": "code",
   "execution_count": 52,
   "metadata": {
    "collapsed": true
   },
   "outputs": [],
   "source": [
    "sample = np.random.choice([1,2,3,4,5,6], 100)"
   ]
  },
  {
   "cell_type": "code",
   "execution_count": 53,
   "metadata": {},
   "outputs": [
    {
     "data": {
      "text/plain": [
       "array([4, 2, 6, 1, 1, 4, 3, 4, 3, 4, 4, 4, 4, 1, 2, 1, 5, 3, 1, 3, 3, 2, 2,\n",
       "       3, 2, 1, 5, 4, 5, 4, 5, 2, 3, 4, 1, 3, 6, 4, 2, 5, 6, 4, 4, 6, 2, 5,\n",
       "       2, 3, 4, 6, 1, 1, 3, 4, 1, 5, 2, 3, 1, 1, 4, 3, 1, 6, 5, 4, 4, 6, 6,\n",
       "       1, 3, 5, 2, 3, 1, 4, 5, 5, 2, 4, 5, 2, 3, 2, 6, 2, 5, 6, 1, 4, 4, 6,\n",
       "       1, 4, 5, 2, 2, 5, 6, 6])"
      ]
     },
     "execution_count": 53,
     "metadata": {},
     "output_type": "execute_result"
    }
   ],
   "source": [
    "sample"
   ]
  },
  {
   "cell_type": "code",
   "execution_count": null,
   "metadata": {
    "collapsed": true
   },
   "outputs": [],
   "source": []
  },
  {
   "cell_type": "markdown",
   "metadata": {},
   "source": [
    "Представим теперь, что эта выборка была получена не искусственно, а путём подбрасывания симметричного шестигранного кубика 100 раз. Оценим вероятности выпадения каждой из сторон с помощью частот:"
   ]
  },
  {
   "cell_type": "code",
   "execution_count": 54,
   "metadata": {
    "scrolled": true
   },
   "outputs": [
    {
     "name": "stdout",
     "output_type": "stream",
     "text": [
      "Число выпадений каждой из сторон:\n",
      "Counter({4: 23, 1: 17, 2: 17, 3: 15, 5: 15, 6: 13})\n",
      "Вероятности выпадений каждой из сторон:\n",
      "{1: 0.17, 2: 0.17, 3: 0.15, 4: 0.23, 5: 0.15, 6: 0.13}\n"
     ]
    }
   ],
   "source": [
    "# посчитаем число выпадений каждой из сторон:\n",
    "from collections import Counter\n",
    "\n",
    "c = Counter(sample)\n",
    "\n",
    "print(\"Число выпадений каждой из сторон:\")    \n",
    "print(c)\n",
    "\n",
    "# теперь поделим на общее число подбрасываний и получим вероятности:\n",
    "print(\"Вероятности выпадений каждой из сторон:\")\n",
    "print({k: v/100.0 for k, v in c.items()})"
   ]
  },
  {
   "cell_type": "markdown",
   "metadata": {},
   "source": [
    "Это и есть оценка функции вероятности дискретного распределения."
   ]
  },
  {
   "cell_type": "markdown",
   "metadata": {},
   "source": [
    "# Непрерывное распределение"
   ]
  },
  {
   "cell_type": "markdown",
   "metadata": {},
   "source": [
    "Сгенерируем выборку объёма 100 из стандартного нормального распределения (с $\\mu=0$ и $\\sigma^2=1$):"
   ]
  },
  {
   "cell_type": "code",
   "execution_count": 55,
   "metadata": {},
   "outputs": [
    {
     "data": {
      "text/plain": [
       "array([ 0.48814596,  0.63334012, -0.21564297, -0.18266984,  0.45383221,\n",
       "        0.5157581 , -0.15127061,  0.27192468, -1.18223166, -0.47513903,\n",
       "        0.23555515, -0.68979069, -0.04272014,  0.31954856,  0.38925712,\n",
       "        0.54058752,  1.69692923,  0.43438886, -1.30708889,  0.4877762 ,\n",
       "       -0.72390851,  0.36261568,  1.78536326,  0.48787321,  0.48472781,\n",
       "       -0.04837057, -0.815998  , -0.88766583,  0.9304264 ,  0.25277337,\n",
       "       -0.27600422,  0.64459103,  1.05037312, -0.13691403,  0.5690478 ,\n",
       "       -0.7809496 , -2.4289948 ,  1.95111093, -0.32642192,  1.40305186,\n",
       "        0.32269468, -0.22506411, -1.44507272,  0.15417805, -0.43813716,\n",
       "       -1.47682719, -0.38877281,  1.09344421,  0.17059473,  0.91383992,\n",
       "        0.99330161, -0.18518981, -0.224268  , -0.74015506,  0.1268312 ,\n",
       "       -0.27468547,  0.41032036, -1.1816732 ,  0.37734619,  0.41811427,\n",
       "       -0.76428394, -0.58678227, -0.76736318,  0.37547853,  0.36708824,\n",
       "       -1.17644398,  1.34165917, -1.13181834, -0.77292486,  2.77778239,\n",
       "       -1.00828271,  0.77483952, -2.09467173, -0.10681564,  1.78928745,\n",
       "       -1.63449751, -1.18769372,  0.26587733, -1.14037961,  0.54124111,\n",
       "        1.23856827, -1.04084124, -0.93826042,  2.30900027, -0.708481  ,\n",
       "        0.70980377, -0.1631452 , -0.49670276, -0.3973027 , -1.518282  ,\n",
       "       -0.98436077,  1.9076493 , -0.4142511 ,  0.00756344, -0.57649498,\n",
       "        2.23976938, -0.61542332,  0.30090131,  0.84428483, -0.25367953])"
      ]
     },
     "execution_count": 55,
     "metadata": {},
     "output_type": "execute_result"
    }
   ],
   "source": [
    "norm_rv = sts.norm(0, 1)\n",
    "sample = norm_rv.rvs(100) # random variates\n",
    "sample"
   ]
  },
  {
   "cell_type": "markdown",
   "metadata": {},
   "source": [
    "Эмпирическая функция распределения для полученной выборки:"
   ]
  },
  {
   "cell_type": "code",
   "execution_count": null,
   "metadata": {
    "collapsed": true
   },
   "outputs": [],
   "source": []
  },
  {
   "cell_type": "code",
   "execution_count": 60,
   "metadata": {},
   "outputs": [
    {
     "name": "stdout",
     "output_type": "stream",
     "text": [
      "[-4.         -3.91919192 -3.83838384 -3.75757576 -3.67676768 -3.5959596\n",
      " -3.51515152 -3.43434343 -3.35353535 -3.27272727 -3.19191919 -3.11111111\n",
      " -3.03030303 -2.94949495 -2.86868687 -2.78787879 -2.70707071 -2.62626263\n",
      " -2.54545455 -2.46464646 -2.38383838 -2.3030303  -2.22222222 -2.14141414\n",
      " -2.06060606 -1.97979798 -1.8989899  -1.81818182 -1.73737374 -1.65656566\n",
      " -1.57575758 -1.49494949 -1.41414141 -1.33333333 -1.25252525 -1.17171717\n",
      " -1.09090909 -1.01010101 -0.92929293 -0.84848485 -0.76767677 -0.68686869\n",
      " -0.60606061 -0.52525253 -0.44444444 -0.36363636 -0.28282828 -0.2020202\n",
      " -0.12121212 -0.04040404  0.04040404  0.12121212  0.2020202   0.28282828\n",
      "  0.36363636  0.44444444  0.52525253  0.60606061  0.68686869  0.76767677\n",
      "  0.84848485  0.92929293  1.01010101  1.09090909  1.17171717  1.25252525\n",
      "  1.33333333  1.41414141  1.49494949  1.57575758  1.65656566  1.73737374\n",
      "  1.81818182  1.8989899   1.97979798  2.06060606  2.14141414  2.22222222\n",
      "  2.3030303   2.38383838  2.46464646  2.54545455  2.62626263  2.70707071\n",
      "  2.78787879  2.86868687  2.94949495  3.03030303  3.11111111  3.19191919\n",
      "  3.27272727  3.35353535  3.43434343  3.51515152  3.5959596   3.67676768\n",
      "  3.75757576  3.83838384  3.91919192  4.        ]\n",
      "[  3.16712418e-05   4.44231742e-05   6.19233895e-05   8.57837169e-05\n",
      "   1.18103990e-04   1.61598982e-04   2.19751580e-04   2.96995550e-04\n",
      "   3.98931102e-04   5.32576001e-04   7.06654332e-04   9.31923968e-04\n",
      "   1.22154241e-03   1.59146888e-03   2.06089818e-03   2.65271952e-03\n",
      "   3.39398992e-03   4.31640908e-03   5.45677857e-03   6.85742491e-03\n",
      "   8.56656243e-03   1.06385691e-02   1.31341457e-02   1.61203278e-02\n",
      "   1.96703190e-02   2.38631167e-02   2.87829020e-02   3.45181740e-02\n",
      "   4.11606119e-02   4.88036603e-02   5.75408414e-02   6.74638118e-02\n",
      "   7.86601927e-02   9.12112197e-02   1.05189266e-01   1.20655313e-01\n",
      "   1.37656443e-01   1.56223449e-01   1.76368649e-01   1.98084004e-01\n",
      "   2.21339621e-01   2.46082740e-01   2.72237254e-01   2.99703828e-01\n",
      "   3.28360643e-01   3.58064784e-01   3.88654236e-01   4.19950465e-01\n",
      "   4.51761512e-01   4.83885505e-01   5.16114495e-01   5.48238488e-01\n",
      "   5.80049535e-01   6.11345764e-01   6.41935216e-01   6.71639357e-01\n",
      "   7.00296172e-01   7.27762746e-01   7.53917260e-01   7.78660379e-01\n",
      "   8.01915996e-01   8.23631351e-01   8.43776551e-01   8.62343557e-01\n",
      "   8.79344687e-01   8.94810734e-01   9.08788780e-01   9.21339807e-01\n",
      "   9.32536188e-01   9.42459159e-01   9.51196340e-01   9.58839388e-01\n",
      "   9.65481826e-01   9.71217098e-01   9.76136883e-01   9.80329681e-01\n",
      "   9.83879672e-01   9.86865854e-01   9.89361431e-01   9.91433438e-01\n",
      "   9.93142575e-01   9.94543221e-01   9.95683591e-01   9.96606010e-01\n",
      "   9.97347280e-01   9.97939102e-01   9.98408531e-01   9.98778458e-01\n",
      "   9.99068076e-01   9.99293346e-01   9.99467424e-01   9.99601069e-01\n",
      "   9.99703004e-01   9.99780248e-01   9.99838401e-01   9.99881896e-01\n",
      "   9.99914216e-01   9.99938077e-01   9.99955577e-01   9.99968329e-01]\n"
     ]
    },
    {
     "data": {
      "text/plain": [
       "<matplotlib.legend.Legend at 0x7f2e1ff5d150>"
      ]
     },
     "execution_count": 60,
     "metadata": {},
     "output_type": "execute_result"
    },
    {
     "data": {
      "image/png": "[encoded data removed]",
      "text/plain": [
       "<matplotlib.figure.Figure at 0x7f2e1fed92d0>"
      ]
     },
     "metadata": {},
     "output_type": "display_data"
    }
   ],
   "source": [
    "x = np.linspace(-4,4,100)\n",
    "print x\n",
    "cdf = norm_rv.cdf(x)\n",
    "print cdf\n",
    "plt.plot(x, cdf, label='theoretical CDF')\n",
    "\n",
    "# для построения ECDF используем библиотеку statsmodels\n",
    "from statsmodels.distributions.empirical_distribution import ECDF\n",
    "ecdf = ECDF(sample)\n",
    "plt.step(ecdf.x, ecdf.y, label='ECDF')\n",
    "\n",
    "plt.ylabel('$f(x)$')\n",
    "plt.xlabel('$x$')\n",
    "plt.legend(loc='upper left')"
   ]
  },
  {
   "cell_type": "markdown",
   "metadata": {},
   "source": [
    "\n",
    "\n",
    "Гистограмма выборки:"
   ]
  },
  {
   "cell_type": "code",
   "execution_count": 10,
   "metadata": {},
   "outputs": [
    {
     "data": {
      "text/plain": [
       "<matplotlib.text.Text at 0x7f193dd4bad0>"
      ]
     },
     "execution_count": 10,
     "metadata": {},
     "output_type": "execute_result"
    },
    {
     "data": {
      "image/png": "[encoded data removed]",
      "text/plain": [
       "<matplotlib.figure.Figure at 0x7f194050c850>"
      ]
     },
     "metadata": {},
     "output_type": "display_data"
    }
   ],
   "source": [
    "plt.hist(sample, normed=True)\n",
    "plt.ylabel('fraction of samples')\n",
    "plt.xlabel('$x$')"
   ]
  },
  {
   "cell_type": "markdown",
   "metadata": {},
   "source": [
    "Попробуем задавать число карманов гистограммы вручную:"
   ]
  },
  {
   "cell_type": "code",
   "execution_count": 62,
   "metadata": {},
   "outputs": [
    {
     "data": {
      "text/plain": [
       "<matplotlib.text.Text at 0x7f2e1fb74b10>"
      ]
     },
     "execution_count": 62,
     "metadata": {},
     "output_type": "execute_result"
    },
    {
     "data": {
      "image/png": "[encoded data removed]",
      "text/plain": [
       "<matplotlib.figure.Figure at 0x7f2e1fa45c10>"
      ]
     },
     "metadata": {},
     "output_type": "display_data"
    }
   ],
   "source": [
    "plt.hist(sample, bins=3, normed=True)\n",
    "plt.ylabel('fraction of samples')\n",
    "plt.xlabel('$x$')"
   ]
  },
  {
   "cell_type": "code",
   "execution_count": 63,
   "metadata": {},
   "outputs": [
    {
     "data": {
      "text/plain": [
       "<matplotlib.text.Text at 0x7f2e1fa93d90>"
      ]
     },
     "execution_count": 63,
     "metadata": {},
     "output_type": "execute_result"
    },
    {
     "data": {
      "image/png": "[encoded data removed]",
      "text/plain": [
       "<matplotlib.figure.Figure at 0x7f2e1f9a05d0>"
      ]
     },
     "metadata": {},
     "output_type": "display_data"
    }
   ],
   "source": [
    "plt.hist(sample, bins=40, normed=True)\n",
    "plt.ylabel('fraction of samples')\n",
    "plt.xlabel('$x$')"
   ]
  },
  {
   "cell_type": "markdown",
   "metadata": {},
   "source": [
    "Эмпирическая оценка плотности, построенная по выборке с помощью ядерного сглаживания:"
   ]
  },
  {
   "cell_type": "code",
   "execution_count": 66,
   "metadata": {},
   "outputs": [
    {
     "data": {
      "text/plain": [
       "<matplotlib.text.Text at 0x7f2e1f75a450>"
      ]
     },
     "execution_count": 66,
     "metadata": {},
     "output_type": "execute_result"
    },
    {
     "data": {
      "image/png": "[encoded data removed]",
      "text/plain": [
       "<matplotlib.figure.Figure at 0x7f2e1f828b10>"
      ]
     },
     "metadata": {},
     "output_type": "display_data"
    }
   ],
   "source": [
    "# для построения используем библиотеку Pandas:\n",
    "df = pd.DataFrame(sample, columns=['KDE'])\n",
    "ax = df.plot(kind='density')\n",
    "\n",
    "# на том же графике построим теоретическую плотность распределения:\n",
    "x = np.linspace(-4,4,100)\n",
    "pdf = norm_rv.pdf(x)\n",
    "plt.plot(x, pdf, label='theoretical pdf', alpha=0.5)\n",
    "plt.legend()\n",
    "plt.ylabel('$f(x)$')\n",
    "plt.xlabel('$x$')"
   ]
  },
  {
   "cell_type": "markdown",
   "metadata": {},
   "source": [
    "правило двух трех дисперсий .В интервал от μ − 2σ до μ + 2σ попадает примерно 95% вероятностной массы нор-\n",
    "мально распределенной случайной величины (см. рис. 11). Это часто используемое\n",
    "на практике правило двух сигм. Другой его вариант — правило трех сигм (см. рис.\n",
    "12): в интервале от μ − 3σ до μ + 3σ случайная величина реализуется практически\n",
    "со стопроцентной вероятностью (99,7%)\n",
    "\n",
    "\n",
    "\n",
    "т.е. сигма это sqrt(10000) = 100\n",
    "мю это среднее 1000\n",
    "\n",
    "1000-2*100\n",
    "800\n",
    "1000+2*100\n",
    "1200\n"
   ]
  },
  {
   "cell_type": "code",
   "execution_count": 5,
   "metadata": {},
   "outputs": [
    {
     "name": "stdout",
     "output_type": "stream",
     "text": [
      "0.0497870683679\n"
     ]
    }
   ],
   "source": [
    "import math\n",
    "print math.exp(-3)"
   ]
  },
  {
   "cell_type": "markdown",
   "metadata": {},
   "source": [
    "Предположим, что вы получаете в среднем три спам-письма в день. Какова доля дней, в которые вы не получаете ни одного спам-письма? Округлите до двух знаков после десятичной точки.\n",
    "\n",
    "0.05\n",
    "Правильный ответ \n",
    "Пусть X — число приходящих вам за день спам-писем. X — счётчик, значит, не имея других данных, естественно попытаться описать эту величину распределением Пуассона.\n",
    "\n",
    "𝔼X=λ=3⇒\n",
    "P(X=0)=30e−30!=e−3≈0.05."
   ]
  },
  {
   "cell_type": "markdown",
   "metadata": {},
   "source": [
    "Метеостанция, находящаяся в ботаническом саду Сиднея, регистрирует количество выпадающих осадков с 1885 года. Среднее годовое количество осадков за период с 1885 по 2015 включительно составляет 1197.69 мм, выборочная дисперсия — 116182.2.\n",
    "\n",
    "Считая, что годовое количество осадков — случайная величина, не меняющаяся во времени и имеющая нормальное распределение, постройте интервал, который с вероятностью 99.7% будет содержать количество осадков, которые выпадут в 2016 году. Чему равна его верхняя граница? Округлите ответ до двух знаков после десятичной точки."
   ]
  },
  {
   "cell_type": "code",
   "execution_count": 10,
   "metadata": {},
   "outputs": [
    {
     "data": {
      "text/plain": [
       "130"
      ]
     },
     "execution_count": 10,
     "metadata": {},
     "output_type": "execute_result"
    }
   ],
   "source": [
    "Dv = 116182.2\n",
    "Xv = 1197.69\n",
    "syear = 1885\n",
    "eyear = 2015\n",
    "n=eyear-syear\n",
    "n"
   ]
  },
  {
   "cell_type": "markdown",
   "metadata": {},
   "source": [
    "найдем среднеквадратическое отклонение сигма "
   ]
  },
  {
   "cell_type": "code",
   "execution_count": 7,
   "metadata": {},
   "outputs": [
    {
     "data": {
      "text/plain": [
       "340.8551011793721"
      ]
     },
     "execution_count": 7,
     "metadata": {},
     "output_type": "execute_result"
    }
   ],
   "source": [
    "\n",
    "sigma = math.sqrt(Dv)\n",
    "sigma"
   ]
  },
  {
   "cell_type": "markdown",
   "metadata": {},
   "source": [
    "по правилу трех сигм правило трех сигм в интервале от μ − 3σ до μ + 3σ случайная величина реализуется практически\n",
    "со стопроцентной вероятностью (99,7%)."
   ]
  },
  {
   "cell_type": "code",
   "execution_count": 9,
   "metadata": {},
   "outputs": [
    {
     "name": "stdout",
     "output_type": "stream",
     "text": [
      "175.124696462 2220.25530354\n"
     ]
    }
   ],
   "source": [
    "sigma3 = sigma*3\n",
    "low = Xv - sigma3\n",
    "up = Xv + sigma3\n",
    "print low, up"
   ]
  },
  {
   "cell_type": "markdown",
   "metadata": {},
   "source": [
    "2. \n",
    "Оцените значение параметра σ¯n — среднеквадратического отклонения нормального распределения, которым, согласно центральной предельной теореме, можно аппроксимировать распределение среднего количества осадков за год из предыдущей задачи. Округлите ответ до двух знаков после десятичной точки.\n",
    "￼\n",
    "340.86\n",
    "Неправильный ответ \n",
    "Вы оценили σ — среднеквадратическое отклонение исходной случайной величины X, а не σ¯n — среднеквадратическое отклонение её выборочного среднего Xn! Примените центральную предельную теорему."
   ]
  },
  {
   "cell_type": "markdown",
   "metadata": {},
   "source": [
    "3. \n",
    "Постройте приближённый 99.7% доверительный интервал для среднего количества осадков за год. Чему равен верхний доверительный предел? Округлите ответ до двух знаков после десятичной точки.\n",
    "\n",
    "2220.26\n",
    "Неправильный ответ \n",
    "Это верхняя граница интервала для количества осадков, а не для среднего количества осадков! Вам нужна другая сигма — среднеквадратичное отклонение не исходной случайной величины, а её выборочного среднего. Вы посчитали её в предыдущем вопросе.\n"
   ]
  },
  {
   "cell_type": "markdown",
   "metadata": {},
   "source": [
    "Выборочную дисперсию Dv можно привести к генеральной исправленной по формуле s2 = (n/(n-1.0))*Dv"
   ]
  },
  {
   "cell_type": "code",
   "execution_count": 47,
   "metadata": {},
   "outputs": [
    {
     "name": "stdout",
     "output_type": "stream",
     "text": [
      "116182.2 117082.837209\n"
     ]
    }
   ],
   "source": [
    "S2 = (n/(n-1.0))*Dv\n",
    "print Dv, S2"
   ]
  },
  {
   "cell_type": "markdown",
   "metadata": {},
   "source": [
    "S2 в тесте не пригодилась."
   ]
  },
  {
   "cell_type": "markdown",
   "metadata": {},
   "source": [
    "Центральная предельная теорема, распределение выборочных описывается нормальным распределением X̄n ≈∼ N(EX, DX/n), с ростом n точность увеличивается. В моем случае с исправленной генеральной? Хватает не исправленной.\n"
   ]
  },
  {
   "cell_type": "markdown",
   "metadata": {},
   "source": [
    "Правильный ответ \n",
    "σ¯n=𝔻X¯n‾‾‾‾√=𝔻Xn‾‾‾√≈S2n‾‾‾√=116182.2131‾‾‾‾‾‾‾√≈29.78."
   ]
  },
  {
   "cell_type": "code",
   "execution_count": 49,
   "metadata": {},
   "outputs": [
    {
     "name": "stdout",
     "output_type": "stream",
     "text": [
      "29.7806484634\n"
     ]
    }
   ],
   "source": [
    "sigmaN = math.sqrt(Dv/(n+1))\n",
    "print sigmaN"
   ]
  },
  {
   "cell_type": "markdown",
   "metadata": {},
   "source": [
    "прикольно то 1885 это один год наблюдения, 1886 еще один т.е. два но 1886-1185=1 один год :) т.е. нужно n + 1"
   ]
  },
  {
   "cell_type": "markdown",
   "metadata": {},
   "source": [
    "по правилу трех сигм захватывающей 99.7% значений"
   ]
  },
  {
   "cell_type": "code",
   "execution_count": 50,
   "metadata": {},
   "outputs": [
    {
     "data": {
      "text/plain": [
       "1287.0319453902077"
      ]
     },
     "execution_count": 50,
     "metadata": {},
     "output_type": "execute_result"
    }
   ],
   "source": [
    "Xv+3*sigmaN"
   ]
  },
  {
   "cell_type": "code",
   "execution_count": null,
   "metadata": {
    "collapsed": true
   },
   "outputs": [],
   "source": []
  }
 ],
 "metadata": {
  "anaconda-cloud": {},
  "kernelspec": {
   "display_name": "Python 2",
   "language": "python",
   "name": "python2"
  },
  "language_info": {
   "codemirror_mode": {
    "name": "ipython",
    "version": 2
   },
   "file_extension": ".py",
   "mimetype": "text/x-python",
   "name": "python",
   "nbconvert_exporter": "python",
   "pygments_lexer": "ipython2",
   "version": "2.7.13"
  }
 },
 "nbformat": 4,
 "nbformat_minor": 1
}
