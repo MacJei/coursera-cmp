{
 "cells": [
  {
   "cell_type": "markdown",
   "metadata": {},
   "source": [
    "### Задание, оцениваемое сокурсниками: Центральная предельная теорема своими руками"
   ]
  },
  {
   "cell_type": "markdown",
   "metadata": {},
   "source": [
    "Выберите ваше любимое непрерывное распределение (чем меньше оно будет похоже на нормальное, тем интереснее; попробуйте выбрать какое-нибудь распределение из тех, что мы не обсуждали в курсе). Сгенерируйте из него выборку объёма 1000, постройте гистограмму выборки и нарисуйте поверх неё теоретическую плотность распределения вашей случайной величины (чтобы величины были в одном масштабе, не забудьте выставить у гистограммы значение параметра normed=True)."
   ]
  },
  {
   "cell_type": "markdown",
   "metadata": {},
   "source": [
    "Распределе́ние Паре́то в теории вероятностей — двухпараметрическое семейство абсолютно непрерывных распределений, являющихся степенными. Называется по имени Вилфредо Парето. Встречается при исследовании различных явлений, в частности, социальных, экономических, физических и других[1]. Вне области экономики иногда называется также распределением Брэдфорда. https://ru.wikipedia.org/wiki/%D0%A0%D0%B0%D1%81%D0%BF%D1%80%D0%B5%D0%B4%D0%B5%D0%BB%D0%B5%D0%BD%D0%B8%D0%B5_%D0%9F%D0%B0%D1%80%D0%B5%D1%82%D0%BE"
   ]
  },
  {
   "cell_type": "markdown",
   "metadata": {},
   "source": [
    "Пусть случайная величина $ {\\displaystyle X}￼ $ такова, что её распределение задаётся равенством:\n",
    "\n",
    "$$ {\\displaystyle F_{X}(x)=P(X<x)=1-\\left({\\frac {x_{m}}{x}}\\right)^{k},\\;\\forall x\\geq x_{m}},  \n",
    "где  : {\\displaystyle x_{m},k>0}￼. $$ Тогда говорят, что $ {\\displaystyle X}￼ $ имеет распределение Парето с параметрами $ {\\displaystyle x_{m}}￼ $ и $ {\\displaystyle k}￼ $. Плотность распределения Парето имеет вид:\n",
    "\n",
    "$$ {\\displaystyle f_{X}(x)=\\left\\{{\\begin{matrix}{\\frac {kx_{m}^{k}}{x^{k+1}}},&x\\geq x_{m}\\\\0,&x<x_{m}\\end{matrix}}\\right..}￼ $$"
   ]
  },
  {
   "cell_type": "code",
   "execution_count": 26,
   "metadata": {
    "collapsed": true
   },
   "outputs": [],
   "source": [
    "import numpy as np\n",
    "import scipy.stats as sts\n",
    "import matplotlib.pyplot as plt\n",
    "import math\n",
    "\n",
    "fig, ax = plt.subplots(1, 1)"
   ]
  },
  {
   "cell_type": "markdown",
   "metadata": {},
   "source": [
    "Сгенерируйте из него выборку объёма 1000, постройте гистограмму выборки "
   ]
  },
  {
   "cell_type": "code",
   "execution_count": 27,
   "metadata": {},
   "outputs": [],
   "source": [
    "b = 5.0\n",
    "rv = sts.pareto(b)  \n",
    "r = sts.pareto.rvs(b, size=1000) # Generate random numbers\n",
    "x = np.linspace(sts.pareto.ppf(0.01, b), sts.pareto.ppf(.999, b), 1000)\n",
    "ax.hist(r, normed=True)\n",
    "ax.grid(True)"
   ]
  },
  {
   "cell_type": "markdown",
   "metadata": {},
   "source": [
    "нарисуйте поверх неё теоретическую плотность распределения вашей случайной величины"
   ]
  },
  {
   "cell_type": "code",
   "execution_count": 28,
   "metadata": {
    "scrolled": true
   },
   "outputs": [
    {
     "data": {
      "image/png": "[encoded data removed]",
      "text/plain": [
       "<matplotlib.figure.Figure at 0x7fc72e57f050>"
      ]
     },
     "metadata": {},
     "output_type": "display_data"
    }
   ],
   "source": [
    "rpdf = rv.pdf(x)\n",
    "ax.plot(x, rpdf)\n",
    "plt.show()"
   ]
  },
  {
   "cell_type": "markdown",
   "metadata": {},
   "source": [
    "Ваша задача — оценить распределение выборочного среднего вашей случайной величины при разных объёмах выборок. Для этого при трёх и более значениях n (например, 5, 10, 50) сгенерируйте 1000 выборок объёма n и постройте гистограммы распределений их выборочных средних. "
   ]
  },
  {
   "cell_type": "code",
   "execution_count": 29,
   "metadata": {},
   "outputs": [],
   "source": [
    "# вспомогательная функция вычисления среднего в выборке из n объемом count \n",
    "def avgN(n=0, count=0, k=0):\n",
    "    if n == 0 or count == 0: return None\n",
    "    a = []\n",
    "    i = 0\n",
    "    while i < count:\n",
    "        s = 0\n",
    "        values = sts.pareto.rvs(k, size=n)\n",
    "        for value in values:\n",
    "            s = s + value\n",
    "        a.append(s/n)\n",
    "        i = i + 1\n",
    "    return a\n",
    "\n",
    "n5 = avgN(n=5, count=1000, k=b)\n",
    "n10 = avgN(n=10, count=1000, k=b)\n",
    "n25 = avgN(n=25, count=1000, k=b)\n",
    "n100 = avgN(n=100, count=1000, k=b)"
   ]
  },
  {
   "cell_type": "code",
   "execution_count": 33,
   "metadata": {},
   "outputs": [
    {
     "data": {
      "image/png": "[encoded data removed]",
      "text/plain": [
       "<matplotlib.figure.Figure at 0x7fc72d8d6910>"
      ]
     },
     "metadata": {},
     "output_type": "display_data"
    }
   ],
   "source": [
    "fig = plt.figure(1)\n",
    "ax1 = fig.add_subplot(221)\n",
    "ax1.set_title('n = 5')\n",
    "ax1.set_ylabel('fractions')\n",
    "ax1.hist(n5)\n",
    "ax2 = fig.add_subplot(222)\n",
    "ax2.hist(n10)\n",
    "ax5 = fig.add_subplot(223)\n",
    "ax5.set_title('n = 25')\n",
    "ax5.set_ylabel('fractions')\n",
    "ax5.hist(n25)\n",
    "ax6 = fig.add_subplot(224)\n",
    "ax6.hist(n100)\n",
    "plt.show()"
   ]
  },
  {
   "cell_type": "markdown",
   "metadata": {},
   "source": [
    "Используя информацию о среднем и дисперсии исходного распределения (её можно без труда найти в википедии), посчитайте значения параметров нормальных распределений, которыми, согласно центральной предельной теореме, приближается распределение выборочных средних. Обратите внимание: для подсчёта значений этих параметров нужно использовать именно теоретические среднее и дисперсию вашей случайной величины, а не их выборочные оценки.\n"
   ]
  },
  {
   "cell_type": "markdown",
   "metadata": {},
   "source": [
    "Математическое ожидание\t${\\displaystyle {\\frac {\\,kx_{\\mathrm {m} }}{k-1}}}￼, если: {\\displaystyle k>1}￼$"
   ]
  },
  {
   "cell_type": "code",
   "execution_count": 34,
   "metadata": {},
   "outputs": [
    {
     "name": "stdout",
     "output_type": "stream",
     "text": [
      "Теоретическое математическое ожидание EX = 1.25\n"
     ]
    }
   ],
   "source": [
    "x_m = 1\n",
    "k = b\n",
    "EX = (k * x_m)/(k - 1)\n",
    "print \"Теоретическое математическое ожидание EX =\", EX"
   ]
  },
  {
   "cell_type": "markdown",
   "metadata": {},
   "source": [
    "Дисперсия ${\\displaystyle \\left({\\frac {x_{\\mathrm {m} }}{k-1}}\\right)^{2}{\\frac {k}{k-2}}} , при : {\\displaystyle k>2}$"
   ]
  },
  {
   "cell_type": "code",
   "execution_count": 35,
   "metadata": {},
   "outputs": [
    {
     "name": "stdout",
     "output_type": "stream",
     "text": [
      "Теоретическая дисперсия DX = 0.104166666667\n"
     ]
    }
   ],
   "source": [
    "DX = (x_m/(k - 1))**2 * (k/(k - 2))\n",
    "print \"Теоретическая дисперсия DX =\", DX"
   ]
  },
  {
   "cell_type": "markdown",
   "metadata": {},
   "source": [
    "Среднеквадратическое отклонение $ DX = σ ^{2} $"
   ]
  },
  {
   "cell_type": "code",
   "execution_count": 36,
   "metadata": {},
   "outputs": [
    {
     "name": "stdout",
     "output_type": "stream",
     "text": [
      "Теоретическое среднеквадратическое отклонение σ = 0.322748612184\n"
     ]
    }
   ],
   "source": [
    "sigma = math.sqrt(DX)\n",
    "print \"Теоретическое среднеквадратическое отклонение σ =\", sigma"
   ]
  },
  {
   "cell_type": "markdown",
   "metadata": {},
   "source": [
    "Для каждой выборки размером n вычислить новое значение среднеквадратического отклонения DX/n и построить наложенный на гистограмму график нормального распределения."
   ]
  },
  {
   "cell_type": "code",
   "execution_count": 37,
   "metadata": {},
   "outputs": [],
   "source": [
    "sigma5 = math.sqrt(DX/5)\n",
    "norm5 = sts.norm(loc=EX, scale=sigma5)"
   ]
  },
  {
   "cell_type": "code",
   "execution_count": 38,
   "metadata": {},
   "outputs": [
    {
     "data": {
      "image/png": "[encoded data removed]",
      "text/plain": [
       "<matplotlib.figure.Figure at 0x7fc72e61bc90>"
      ]
     },
     "metadata": {},
     "output_type": "display_data"
    }
   ],
   "source": [
    "x = np.linspace(EX-(3*sigma5), EX+(3*sigma5), 1000)\n",
    "pdf = norm5.pdf(x)\n",
    "plt.plot(x, pdf)\n",
    "plt.hist(n5, normed=True)\n",
    "plt.show()"
   ]
  },
  {
   "cell_type": "code",
   "execution_count": 39,
   "metadata": {},
   "outputs": [
    {
     "data": {
      "image/png": "[encoded data removed]",
      "text/plain": [
       "<matplotlib.figure.Figure at 0x7fc72e5f04d0>"
      ]
     },
     "metadata": {},
     "output_type": "display_data"
    }
   ],
   "source": [
    "sigma10 = math.sqrt(DX/10)\n",
    "norm10 = sts.norm(loc=EX, scale=sigma10)\n",
    "x = np.linspace(EX-(3*sigma10), EX+(3*sigma10), 1000)\n",
    "pdf = norm10.pdf(x)\n",
    "plt.plot(x, pdf)\n",
    "plt.hist(n10, normed=True)\n",
    "plt.show()"
   ]
  },
  {
   "cell_type": "code",
   "execution_count": 40,
   "metadata": {},
   "outputs": [
    {
     "data": {
      "image/png": "[encoded data removed]",
      "text/plain": [
       "<matplotlib.figure.Figure at 0x7fc72e1c7450>"
      ]
     },
     "metadata": {},
     "output_type": "display_data"
    }
   ],
   "source": [
    "sigma25 = math.sqrt(DX/25)\n",
    "norm25 = sts.norm(loc=EX, scale=sigma25)\n",
    "x = np.linspace(EX-(3*sigma25), EX+(3*sigma25), 1000)\n",
    "pdf = norm25.pdf(x)\n",
    "plt.plot(x, pdf)\n",
    "plt.hist(n25, normed=True)\n",
    "plt.show()"
   ]
  },
  {
   "cell_type": "code",
   "execution_count": 41,
   "metadata": {},
   "outputs": [
    {
     "data": {
      "image/png": "[encoded data removed]",
      "text/plain": [
       "<matplotlib.figure.Figure at 0x7fc72e1c7ad0>"
      ]
     },
     "metadata": {},
     "output_type": "display_data"
    }
   ],
   "source": [
    "sigma100 = math.sqrt(DX/100)\n",
    "norm100 = sts.norm(loc=EX, scale=sigma100)\n",
    "x = np.linspace(EX-(3*sigma100), EX+(3*sigma100), 1000)\n",
    "pdf = norm100.pdf(x)\n",
    "plt.plot(x, pdf)\n",
    "plt.hist(n100, normed=True)\n",
    "plt.show()"
   ]
  },
  {
   "cell_type": "code",
   "execution_count": null,
   "metadata": {
    "collapsed": true
   },
   "outputs": [],
   "source": []
  },
  {
   "cell_type": "code",
   "execution_count": null,
   "metadata": {
    "collapsed": true
   },
   "outputs": [],
   "source": []
  },
  {
   "cell_type": "code",
   "execution_count": null,
   "metadata": {
    "collapsed": true
   },
   "outputs": [],
   "source": []
  }
 ],
 "metadata": {
  "kernelspec": {
   "display_name": "Python 2",
   "language": "python",
   "name": "python2"
  },
  "language_info": {
   "codemirror_mode": {
    "name": "ipython",
    "version": 2
   },
   "file_extension": ".py",
   "mimetype": "text/x-python",
   "name": "python",
   "nbconvert_exporter": "python",
   "pygments_lexer": "ipython2",
   "version": "2.7.13"
  }
 },
 "nbformat": 4,
 "nbformat_minor": 2
}
