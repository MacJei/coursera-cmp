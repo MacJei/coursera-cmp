{
 "cells": [
  {
   "cell_type": "markdown",
   "metadata": {},
   "source": [
    "### Задание, оцениваемое сокурсниками: Центральная предельная теорема своими руками"
   ]
  },
  {
   "cell_type": "markdown",
   "metadata": {},
   "source": [
    "Выберите ваше любимое непрерывное распределение (чем меньше оно будет похоже на нормальное, тем интереснее; попробуйте выбрать какое-нибудь распределение из тех, что мы не обсуждали в курсе). Сгенерируйте из него выборку объёма 1000, постройте гистограмму выборки и нарисуйте поверх неё теоретическую плотность распределения вашей случайной величины (чтобы величины были в одном масштабе, не забудьте выставить у гистограммы значение параметра normed=True)."
   ]
  },
  {
   "cell_type": "markdown",
   "metadata": {},
   "source": [
    "Распределе́ние Паре́то в теории вероятностей — двухпараметрическое семейство абсолютно непрерывных распределений, являющихся степенными. Называется по имени Вилфредо Парето. Встречается при исследовании различных явлений, в частности, социальных, экономических, физических и других[1]. Вне области экономики иногда называется также распределением Брэдфорда."
   ]
  },
  {
   "cell_type": "markdown",
   "metadata": {},
   "source": [
    "Пусть случайная величина $ {\\displaystyle X}￼ $ такова, что её распределение задаётся равенством:\n",
    "\n",
    "$$ {\\displaystyle F_{X}(x)=P(X<x)=1-\\left({\\frac {x_{m}}{x}}\\right)^{k},\\;\\forall x\\geq x_{m}},  \n",
    "где   {\\displaystyle x_{m},k>0}￼. $$ Тогда говорят, что $ {\\displaystyle X}￼ $ имеет распределение Парето с параметрами $ {\\displaystyle x_{m}}￼ $ и $ {\\displaystyle k}￼ $. Плотность распределения Парето имеет вид:\n",
    "\n",
    "$$ {\\displaystyle f_{X}(x)=\\left\\{{\\begin{matrix}{\\frac {kx_{m}^{k}}{x^{k+1}}},&x\\geq x_{m}\\\\0,&x<x_{m}\\end{matrix}}\\right..}￼ $$"
   ]
  },
  {
   "cell_type": "code",
   "execution_count": 45,
   "metadata": {
    "collapsed": true
   },
   "outputs": [],
   "source": [
    "import numpy as np\n",
    "from scipy.stats import pareto\n",
    "import matplotlib.pyplot as plt\n",
    "fig, ax = plt.subplots(1, 1)"
   ]
  },
  {
   "cell_type": "markdown",
   "metadata": {},
   "source": [
    "Сгенерируйте из него выборку объёма 1000, постройте гистограмму выборки "
   ]
  },
  {
   "cell_type": "code",
   "execution_count": 46,
   "metadata": {
    "collapsed": true
   },
   "outputs": [],
   "source": [
    "b = 5.0\n",
    "rv = pareto(b)  \n",
    "r = pareto.rvs(b, size=1000) # Generate random numbers\n",
    "x = np.linspace(pareto.ppf(0.01, b), pareto.ppf(.999, b), 1000)\n",
    "ax.hist(r, normed=True)\n",
    "ax.grid(True)"
   ]
  },
  {
   "cell_type": "markdown",
   "metadata": {},
   "source": [
    "нарисуйте поверх неё теоретическую плотность распределения вашей случайной величины"
   ]
  },
  {
   "cell_type": "code",
   "execution_count": 47,
   "metadata": {},
   "outputs": [
    {
     "data": {
      "image/png": "[encoded data removed]",
      "text/plain": [
       "<matplotlib.figure.Figure at 0x7f3374732dd0>"
      ]
     },
     "metadata": {},
     "output_type": "display_data"
    }
   ],
   "source": [
    "rpdf = rv.pdf(x)\n",
    "ax.plot(x, rpdf)\n",
    "plt.show()"
   ]
  },
  {
   "cell_type": "markdown",
   "metadata": {},
   "source": [
    "Ваша задача — оценить распределение выборочного среднего вашей случайной величины при разных объёмах выборок. Для этого при трёх и более значениях n (например, 5, 10, 50) сгенерируйте 1000 выборок объёма n и постройте гистограммы распределений их выборочных средних. "
   ]
  },
  {
   "cell_type": "code",
   "execution_count": 48,
   "metadata": {},
   "outputs": [],
   "source": [
    "def avgN(n=0, count=0, k=0):\n",
    "    if n == 0 or count == 0: return None\n",
    "    a = []\n",
    "    i = 0\n",
    "    while i < count:\n",
    "        s = 0\n",
    "        values = pareto.rvs(k, size=n)\n",
    "        for value in values:\n",
    "            s = s + value\n",
    "        a.append(s/n)\n",
    "        i = i + 1\n",
    "    return a\n",
    "\n",
    "n5 = avgN(n=5, count=1000, k=b)\n",
    "n10 = avgN(n=10, count=1000, k=b)\n",
    "n15 = avgN(n=15, count=1000, k=b)\n",
    "n20 = avgN(n=20, count=1000, k=b)\n",
    "n25 = avgN(n=25, count=1000, k=b)\n",
    "n100 = avgN(n=100, count=1000, k=b)"
   ]
  },
  {
   "cell_type": "code",
   "execution_count": 49,
   "metadata": {},
   "outputs": [
    {
     "data": {
      "image/png": "[encoded data removed]",
      "text/plain": [
       "<matplotlib.figure.Figure at 0x7f33749b33d0>"
      ]
     },
     "metadata": {},
     "output_type": "display_data"
    }
   ],
   "source": [
    "fig = plt.figure(1)\n",
    "ax1 = fig.add_subplot(221)\n",
    "ax1.hist(n5)\n",
    "ax2 = fig.add_subplot(222)\n",
    "ax2.hist(n10)\n",
    "#ax3 = fig.add_subplot(323)\n",
    "#ax3.hist(n15)\n",
    "#ax4 = fig.add_subplot(324)\n",
    "#ax4.hist(n20)\n",
    "ax5 = fig.add_subplot(223)\n",
    "ax5.hist(n25)\n",
    "ax6 = fig.add_subplot(224)\n",
    "ax6.hist(n100)\n",
    "plt.show()"
   ]
  },
  {
   "cell_type": "code",
   "execution_count": 111,
   "metadata": {},
   "outputs": [
    {
     "name": "stdout",
     "output_type": "stream",
     "text": [
      "mean= 1.61728395062 var= 1.61019907469 skew= nan kurt= nan\n"
     ]
    }
   ],
   "source": [
    "b = 2.62\n",
    "mean, var, skew, kurt = pareto.stats(b, moments='mvsk')\n",
    "print \"mean=\", mean, \"var=\", var, \"skew=\", skew, \"kurt=\", kurt"
   ]
  },
  {
   "cell_type": "code",
   "execution_count": 105,
   "metadata": {
    "collapsed": true
   },
   "outputs": [],
   "source": [
    "x = np.linspace(pareto.ppf(0.01, b), pareto.ppf(.99, b), 1000)"
   ]
  },
  {
   "cell_type": "markdown",
   "metadata": {},
   "source": [
    "ax.plot(x, pareto.pdf(x, b), 'r-', lw=5, alpha=0.6, label='pareto pdf')"
   ]
  },
  {
   "cell_type": "code",
   "execution_count": 106,
   "metadata": {},
   "outputs": [
    {
     "data": {
      "text/plain": [
       "[<matplotlib.lines.Line2D at 0x7f30231a3050>]"
      ]
     },
     "execution_count": 106,
     "metadata": {},
     "output_type": "execute_result"
    }
   ],
   "source": [
    "rv = pareto(b)\n",
    "ax.plot(x, rv.pdf(x), lw=2, label='frozen pdf')"
   ]
  },
  {
   "cell_type": "code",
   "execution_count": 107,
   "metadata": {
    "collapsed": true
   },
   "outputs": [],
   "source": [
    "vals = pareto.ppf([0.001, 0.5,0.999], b)\n",
    "res = np.allclose([0.001, 0.5, 0.999], pareto.cdf(vals, b))\n",
    "#print res, vals"
   ]
  },
  {
   "cell_type": "code",
   "execution_count": 108,
   "metadata": {
    "collapsed": true
   },
   "outputs": [],
   "source": [
    "# genrate random numbers\n",
    "r = pareto.rvs(b, size=1000)"
   ]
  },
  {
   "cell_type": "code",
   "execution_count": 109,
   "metadata": {},
   "outputs": [
    {
     "data": {
      "text/plain": [
       "(array([ 1.11631552,  0.2574905 ,  0.08635352,  0.03768154,  0.01884077,\n",
       "         0.0172707 ,  0.01256051,  0.00628026,  0.00157006,  0.00471019,\n",
       "         0.00157006,  0.        ,  0.00157006,  0.00157006,  0.        ,\n",
       "         0.00314013,  0.        ,  0.        ,  0.        ,  0.        ,\n",
       "         0.        ,  0.        ,  0.        ,  0.        ,  0.        ,\n",
       "         0.        ,  0.        ,  0.        ,  0.        ,  0.00157006,\n",
       "         0.        ,  0.        ,  0.        ,  0.        ,  0.        ,\n",
       "         0.        ,  0.        ,  0.        ,  0.        ,  0.00157006]),\n",
       " array([  1.00044855,   1.63736525,   2.27428195,   2.91119865,\n",
       "          3.54811535,   4.18503205,   4.82194875,   5.45886545,\n",
       "          6.09578215,   6.73269885,   7.36961555,   8.00653225,\n",
       "          8.64344896,   9.28036566,   9.91728236,  10.55419906,\n",
       "         11.19111576,  11.82803246,  12.46494916,  13.10186586,\n",
       "         13.73878256,  14.37569926,  15.01261596,  15.64953266,\n",
       "         16.28644936,  16.92336606,  17.56028277,  18.19719947,\n",
       "         18.83411617,  19.47103287,  20.10794957,  20.74486627,\n",
       "         21.38178297,  22.01869967,  22.65561637,  23.29253307,\n",
       "         23.92944977,  24.56636647,  25.20328317,  25.84019987,  26.47711658]),\n",
       " <a list of 1 Patch objects>)"
      ]
     },
     "execution_count": 109,
     "metadata": {},
     "output_type": "execute_result"
    }
   ],
   "source": [
    "ax.hist(r, bins=40, normed=True, histtype='stepfilled', alpha=0.2, facecolor='g')\n"
   ]
  },
  {
   "cell_type": "code",
   "execution_count": 110,
   "metadata": {},
   "outputs": [
    {
     "data": {
      "image/png": "[encoded data removed]",
      "text/plain": [
       "<matplotlib.figure.Figure at 0x7f30231fab90>"
      ]
     },
     "metadata": {},
     "output_type": "display_data"
    }
   ],
   "source": [
    "ax.legend(loc='best', frameon=False)\n",
    "ax.grid(True)\n",
    "plt.show()"
   ]
  },
  {
   "cell_type": "code",
   "execution_count": null,
   "metadata": {
    "collapsed": true
   },
   "outputs": [],
   "source": []
  },
  {
   "cell_type": "code",
   "execution_count": null,
   "metadata": {
    "collapsed": true
   },
   "outputs": [],
   "source": []
  },
  {
   "cell_type": "code",
   "execution_count": null,
   "metadata": {
    "collapsed": true
   },
   "outputs": [],
   "source": []
  },
  {
   "cell_type": "code",
   "execution_count": null,
   "metadata": {
    "collapsed": true
   },
   "outputs": [],
   "source": []
  },
  {
   "cell_type": "code",
   "execution_count": null,
   "metadata": {
    "collapsed": true
   },
   "outputs": [],
   "source": []
  },
  {
   "cell_type": "code",
   "execution_count": null,
   "metadata": {
    "collapsed": true
   },
   "outputs": [],
   "source": []
  },
  {
   "cell_type": "code",
   "execution_count": null,
   "metadata": {
    "collapsed": true
   },
   "outputs": [],
   "source": []
  },
  {
   "cell_type": "code",
   "execution_count": null,
   "metadata": {
    "collapsed": true
   },
   "outputs": [],
   "source": []
  },
  {
   "cell_type": "code",
   "execution_count": null,
   "metadata": {
    "collapsed": true
   },
   "outputs": [],
   "source": []
  },
  {
   "cell_type": "code",
   "execution_count": null,
   "metadata": {
    "collapsed": true
   },
   "outputs": [],
   "source": []
  },
  {
   "cell_type": "code",
   "execution_count": null,
   "metadata": {
    "collapsed": true
   },
   "outputs": [],
   "source": []
  },
  {
   "cell_type": "code",
   "execution_count": null,
   "metadata": {
    "collapsed": true
   },
   "outputs": [],
   "source": []
  },
  {
   "cell_type": "code",
   "execution_count": null,
   "metadata": {
    "collapsed": true
   },
   "outputs": [],
   "source": []
  }
 ],
 "metadata": {
  "kernelspec": {
   "display_name": "Python 2",
   "language": "python",
   "name": "python2"
  },
  "language_info": {
   "codemirror_mode": {
    "name": "ipython",
    "version": 2
   },
   "file_extension": ".py",
   "mimetype": "text/x-python",
   "name": "python",
   "nbconvert_exporter": "python",
   "pygments_lexer": "ipython2",
   "version": "2.7.13"
  }
 },
 "nbformat": 4,
 "nbformat_minor": 2
}
