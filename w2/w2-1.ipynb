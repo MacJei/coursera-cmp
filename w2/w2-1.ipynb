{
 "cells": [
  {
   "cell_type": "markdown",
   "metadata": {},
   "source": [
    "Каждая строка в файле соответствует одному предложению. Считайте их, приведите каждую к нижнему регистру с помощью строковой функции lower()."
   ]
  },
  {
   "cell_type": "code",
   "execution_count": 2,
   "metadata": {},
   "outputs": [
    {
     "name": "stdout",
     "output_type": "stream",
     "text": [
      "in comparison to dogs, cats have not undergone major changes during the domestication process.\n",
      "\n"
     ]
    }
   ],
   "source": [
    "text = list()\n",
    "with open(\"sentences.txt\") as inFile:\n",
    "    for line in inFile:\n",
    "        #line = line.lower()\n",
    "        #print line\n",
    "        text.append(line.lower())\n",
    "print text[0]"
   ]
  },
  {
   "cell_type": "markdown",
   "metadata": {},
   "source": [
    "Произведите токенизацию, то есть разбиение текстов на слова. Для этого можно воспользоваться регулярным выражением, которое считает разделителем любой символ, не являющийся буквой: re.split('[^a-z]', t). Не забудьте удалить пустые слова после разделения."
   ]
  },
  {
   "cell_type": "code",
   "execution_count": 3,
   "metadata": {},
   "outputs": [
    {
     "name": "stdout",
     "output_type": "stream",
     "text": [
      "in\n"
     ]
    }
   ],
   "source": [
    "import re\n",
    "textWords = list()\n",
    "for line in text:\n",
    "    for word in re.split('[^a-z]', line):\n",
    "        if(word != ''):\n",
    "            textWords.append(word)\n",
    "print textWords[0]"
   ]
  },
  {
   "cell_type": "markdown",
   "metadata": {},
   "source": [
    "Составьте список всех слов, встречающихся в предложениях. Сопоставьте каждому слову индекс от нуля до (d - 1), где d — число различных слов в предложениях. Для этого удобно воспользоваться структурой dict."
   ]
  },
  {
   "cell_type": "code",
   "execution_count": 4,
   "metadata": {},
   "outputs": [
    {
     "name": "stdout",
     "output_type": "stream",
     "text": [
      "15\n"
     ]
    }
   ],
   "source": [
    "words = dict()\n",
    "d = 0\n",
    "for word in textWords:\n",
    "    if word not in words:\n",
    "        words[word] = d\n",
    "        d += 1\n",
    "print words['cat']"
   ]
  },
  {
   "cell_type": "markdown",
   "metadata": {},
   "source": [
    "Создайте матрицу размера n * d, где n — число предложений. Заполните ее: элемент с индексом (i, j) в этой матрице должен быть равен количеству вхождений j-го слова в i-е предложение. У вас должна получиться матрица размера 22 * 254."
   ]
  },
  {
   "cell_type": "code",
   "execution_count": 45,
   "metadata": {},
   "outputs": [
    {
     "name": "stdout",
     "output_type": "stream",
     "text": [
      "22 254\n",
      "[[ 1.  1.  1. ...,  0.  0.  0.]\n",
      " [ 0.  0.  1. ...,  0.  0.  0.]\n",
      " [ 0.  0.  2. ...,  0.  0.  0.]\n",
      " ..., \n",
      " [ 0.  0.  0. ...,  0.  0.  0.]\n",
      " [ 1.  0.  1. ...,  0.  0.  0.]\n",
      " [ 0.  0.  1. ...,  1.  1.  1.]]\n"
     ]
    }
   ],
   "source": [
    "import numpy as np\n",
    "n = len(text)\n",
    "print n, d\n",
    "W = np.zeros((n, d))\n",
    "W.shape\n",
    "\n",
    "nline = 0\n",
    "for line in text:\n",
    "    wordCount = dict()\n",
    "    for word in re.split('[^a-z]', line):\n",
    "        if(word != ''):\n",
    "            wordCount[word] = wordCount.get(word, 0) + 1\n",
    "    #print nline, wordCount\n",
    "    i = nline\n",
    "    for word in wordCount:\n",
    "        j = words[word]\n",
    "        #print i, j, word, wordCount[word]\n",
    "        W[i, j] = wordCount[word]\n",
    "\n",
    "    nline += 1\n",
    "\n",
    "W[0, 4]\n",
    "print W"
   ]
  },
  {
   "cell_type": "markdown",
   "metadata": {},
   "source": [
    "Найдите косинусное расстояние от предложения в самой первой строке (In comparison to dogs, cats have not undergone...) до всех остальных с помощью функции scipy.spatial.distance.cosine. Какие номера у двух предложений, ближайших к нему по этому расстоянию (строки нумеруются с нуля)? Эти два числа и будут ответами на задание. Само предложение (In comparison to dogs, cats have not undergone... ) имеет индекс 0."
   ]
  },
  {
   "cell_type": "code",
   "execution_count": 46,
   "metadata": {},
   "outputs": [
    {
     "data": {
      "text/plain": [
       "0.92587506833388988"
      ]
     },
     "execution_count": 46,
     "metadata": {},
     "output_type": "execute_result"
    }
   ],
   "source": [
    "import scipy.spatial\n",
    "scipy.spatial.distance.cosine(W[0,], W[7,])"
   ]
  },
  {
   "cell_type": "code",
   "execution_count": 47,
   "metadata": {},
   "outputs": [
    {
     "data": {
      "text/plain": [
       "22"
      ]
     },
     "execution_count": 47,
     "metadata": {},
     "output_type": "execute_result"
    }
   ],
   "source": [
    "W.shape[0]"
   ]
  },
  {
   "cell_type": "markdown",
   "metadata": {},
   "source": [
    "найти расстояния"
   ]
  },
  {
   "cell_type": "code",
   "execution_count": 50,
   "metadata": {},
   "outputs": [],
   "source": [
    "distances = list()\n",
    "i = 0\n",
    "while(i < W.shape[0]):\n",
    "    distances.append(scipy.spatial.distance.cosine(W[0,], W[i,]))\n",
    "    i += 1"
   ]
  },
  {
   "cell_type": "markdown",
   "metadata": {},
   "source": [
    "найти минимумы"
   ]
  },
  {
   "cell_type": "code",
   "execution_count": 51,
   "metadata": {},
   "outputs": [
    {
     "name": "stdout",
     "output_type": "stream",
     "text": [
      "0 [0.0, 0.95275444087384664, 0.86447381456421235, 0.89517151632780823, 0.77708871496985887, 0.94023856953328033, 0.7327387580875756, 0.92587506833388988, 0.88427248752843102, 0.90550888174769317, 0.83281653622739416, 0.88047713906656067, 0.83964325485254543, 0.87035925528956715, 0.87401184233025764, 0.94427217874246472, 0.84063618542208085, 0.95664450152379399, 0.94427217874246472, 0.88854435748492944, 0.84275727449171223, 0.82503644694405864]\n",
      "0\n",
      "6\n",
      "4\n",
      "[0, 6, 4]\n"
     ]
    }
   ],
   "source": [
    "import numpy as np\n",
    "print np.argmin(distances), distances\n",
    "results = list()\n",
    "tmp = list(distances)\n",
    "i = 0\n",
    "while(i < 3):\n",
    "    idx = np.argmin(tmp)\n",
    "    results.append(idx)\n",
    "    tmp[idx] = tmp[np.argmax(tmp)]\n",
    "    print idx\n",
    "    i += 1\n",
    "    \n",
    "print results    "
   ]
  },
  {
   "cell_type": "markdown",
   "metadata": {},
   "source": [
    "Запишите полученные числа в файл, разделив пробелом. Обратите внимание, что файл должен состоять из одной строки, в конце которой не должно быть переноса. Пример файла с решением вы можете найти в конце задания (submission-1.txt).\n"
   ]
  },
  {
   "cell_type": "code",
   "execution_count": 52,
   "metadata": {},
   "outputs": [],
   "source": [
    "with open('my-submission.txt','w') as outFile:\n",
    "    outFile.writelines(result + ' ' for result in  map(str, results[1:]))"
   ]
  },
  {
   "cell_type": "code",
   "execution_count": 53,
   "metadata": {},
   "outputs": [
    {
     "name": "stdout",
     "output_type": "stream",
     "text": [
      "6 4 "
     ]
    }
   ],
   "source": [
    "!cat my-submission.txt"
   ]
  },
  {
   "cell_type": "code",
   "execution_count": 54,
   "metadata": {},
   "outputs": [
    {
     "name": "stdout",
     "output_type": "stream",
     "text": [
      "in comparison to dogs, cats have not undergone major changes during the domestication process.\n",
      "domestic cats are similar in size to the other members of the genus felis, typically weighing between 4 and 5 kg (8.8 and 11.0 lb).\n",
      "in one, people deliberately tamed cats in a process of artificial selection, as they were useful predators of vermin.\n",
      "\n"
     ]
    }
   ],
   "source": [
    "print text[0] + text[6] +text[4]"
   ]
  },
  {
   "cell_type": "code",
   "execution_count": null,
   "metadata": {
    "collapsed": true
   },
   "outputs": [],
   "source": []
  }
 ],
 "metadata": {
  "kernelspec": {
   "display_name": "Python 2",
   "language": "python",
   "name": "python2"
  },
  "language_info": {
   "codemirror_mode": {
    "name": "ipython",
    "version": 2
   },
   "file_extension": ".py",
   "mimetype": "text/x-python",
   "name": "python",
   "nbconvert_exporter": "python",
   "pygments_lexer": "ipython2",
   "version": "2.7.13"
  }
 },
 "nbformat": 4,
 "nbformat_minor": 2
}
